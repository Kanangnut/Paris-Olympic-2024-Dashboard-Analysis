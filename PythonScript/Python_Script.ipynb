{
 "cells": [
  {
   "cell_type": "code",
   "execution_count": null,
   "metadata": {},
   "outputs": [],
   "source": [
    "import kaggle\n",
    "import os\n",
    "import pandas as pd\n",
    "\n",
    "# Set Kaggle API credentials directory\n",
    "os.environ['KAGGLE_CONFIG_DIR'] = r'xxxxx'  # Use raw string for path\n",
    "\n",
    "# Specify the dataset identifier\n",
    "dataset = 'xxxxx'\n",
    "\n",
    "# Set the download path\n",
    "download_path = r'xxxxx' # Use raw string for path\n",
    "\n",
    "# Remove existing files in the folder to prevent duplicates or outdated files\n",
    "for file in os.listdir(download_path):\n",
    "    file_path = os.path.join(download_path, file)\n",
    "    try:\n",
    "        if os.path.isfile(file_path):\n",
    "            os.unlink(file_path)  # Delete the file\n",
    "            print(f\"Deleted {file_path}\")\n",
    "    except Exception as e:\n",
    "        print(f\"Error deleting {file_path}: {e}\")\n",
    "\n",
    "# Download the dataset using the Kaggle API and unzip the files\n",
    "kaggle.api.dataset_download_files(dataset, path=download_path, unzip=True)\n",
    "\n",
    "# List of CSV files to be imported\n",
    "csv_files = [\n",
    "    'xxxxx',\n",
    "    'xxxxx',\n",
    "]\n",
    "\n",
    "# Initialize a dictionary to hold DataFrames\n",
    "dataframes = {}\n",
    "\n",
    "# Iterate through each CSV file and load it into a DataFrame\n",
    "for file in csv_files:\n",
    "    # Construct the full path to the CSV file\n",
    "    file_path = os.path.join(download_path, file)\n",
    "    \n",
    "    # Check if the file exists to avoid errors\n",
    "    if os.path.exists(file_path):\n",
    "        # Load the CSV file into a Pandas DataFrame\n",
    "        df = pd.read_csv(file_path)\n",
    "        \n",
    "        # Add the DataFrame to the dictionary using the file name as the key\n",
    "        table_name = file.split('.')[0]  # Remove the .csv extension\n",
    "        dataframes[table_name] = df"
   ]
  }
 ],
 "metadata": {
  "kernelspec": {
   "display_name": "Python 3",
   "language": "python",
   "name": "python3"
  },
  "language_info": {
   "codemirror_mode": {
    "name": "ipython",
    "version": 3
   },
   "file_extension": ".py",
   "mimetype": "text/x-python",
   "name": "python",
   "nbconvert_exporter": "python",
   "pygments_lexer": "ipython3",
   "version": "3.12.4"
  }
 },
 "nbformat": 4,
 "nbformat_minor": 2
}
